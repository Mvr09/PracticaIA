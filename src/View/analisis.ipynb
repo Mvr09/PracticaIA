{
 "cells": [
  {
   "cell_type": "code",
   "outputs": [],
   "source": [
    "import pandas as pd\n",
    "import matplotlib.pyplot as plt\n",
    "import numpy as np"
   ],
   "metadata": {
    "collapsed": false,
    "ExecuteTime": {
     "end_time": "2025-04-03T16:59:38.502155Z",
     "start_time": "2025-04-03T16:59:38.498545Z"
    }
   },
   "id": "b41f0e08d82e25f1",
   "execution_count": 4
  },
  {
   "cell_type": "code",
   "execution_count": 5,
   "id": "initial_id",
   "metadata": {
    "collapsed": true,
    "ExecuteTime": {
     "end_time": "2025-04-03T16:59:38.506481Z",
     "start_time": "2025-04-03T16:59:38.503206Z"
    }
   },
   "outputs": [],
   "source": [
    "# Define file names\n",
    "ship_log_file = \"ship_log.csv\"\n",
    "cargo_log_file = \"cargo_log.csv\"\n",
    "canal_log_file = \"canal_log.csv\"\n",
    "ship_stats_file = \"ship_stats.csv\""
   ]
  },
  {
   "cell_type": "code",
   "outputs": [],
   "source": [
    "# Load the CSV files into DataFrames\n",
    "df_ships = pd.read_csv(ship_log_file)\n",
    "df_cargos = pd.read_csv(cargo_log_file)\n",
    "df_canal = pd.read_csv(canal_log_file)\n",
    "ship_stats = pd.read_csv(ship_stats_file)"
   ],
   "metadata": {
    "collapsed": false,
    "ExecuteTime": {
     "end_time": "2025-04-03T16:59:38.729181Z",
     "start_time": "2025-04-03T16:59:38.519324Z"
    }
   },
   "id": "93376fa4ce4c11e2",
   "execution_count": 6
  },
  {
   "cell_type": "code",
   "outputs": [
    {
     "name": "stdout",
     "output_type": "stream",
     "text": [
      "       Ship    Arrival      Entry  Wait Time  Service Time       Exit  \\\n",
      "0  Boat_229  10.200603  10.200603   0.000000      0.270342  10.470945   \n",
      "1  Boat_605  11.703460  11.703460   0.000000      0.075625  11.779086   \n",
      "2   Boat_28  17.183922  17.183922   0.000000      3.147125  20.331047   \n",
      "3  Boat_460  25.422064  25.422064   0.000000      4.144345  29.566410   \n",
      "4  Boat_715  34.320151  34.320151   0.000000      0.813880  35.134031   \n",
      "5  Boat_105  39.812601  39.812601   0.000000      0.254297  40.066898   \n",
      "6  Boat_827  40.785927  40.785927   0.000000      1.537804  42.323732   \n",
      "7   Boat_81  41.230154  42.323732   1.093577      4.421152  46.744884   \n",
      "8  Boat_592  49.260682  49.260682   0.000000      0.180231  49.440913   \n",
      "9   Boat_82  51.396186  51.396186   0.000000      5.033829  56.430015   \n",
      "\n",
      "           Fee   Cargo Value  Cargo Weight  Cargo Space  Free Weight  \\\n",
      "0  1000.000000  1.448663e+04           428           66          572   \n",
      "1  1000.000000  1.053312e+06         12732          367          764   \n",
      "2  1000.000000  5.245289e+05          2206           50          261   \n",
      "3  1000.000000  8.627226e+05          6425          251         5658   \n",
      "4  1000.000000  1.448663e+04           428           66          572   \n",
      "5  1000.000000  5.245289e+05          2206           50          218   \n",
      "6  1000.000000  1.317950e+06         13589          423         5216   \n",
      "7   477.651324  2.791247e+05          1285          122           48   \n",
      "8  1000.000000  1.196768e+06          9009          489          627   \n",
      "9  1000.000000  1.196768e+06          9009          489         1816   \n",
      "\n",
      "   Free Space                                 Scenario  \n",
      "0          94  Scenario 1/180: AR=0.1, ST=2.5, Locks=1  \n",
      "1          27  Scenario 1/180: AR=0.1, ST=2.5, Locks=1  \n",
      "2         301  Scenario 1/180: AR=0.1, ST=2.5, Locks=1  \n",
      "3          20  Scenario 1/180: AR=0.1, ST=2.5, Locks=1  \n",
      "4         753  Scenario 1/180: AR=0.1, ST=2.5, Locks=1  \n",
      "5         670  Scenario 1/180: AR=0.1, ST=2.5, Locks=1  \n",
      "6          39  Scenario 1/180: AR=0.1, ST=2.5, Locks=1  \n",
      "7        1155  Scenario 1/180: AR=0.1, ST=2.5, Locks=1  \n",
      "8         500  Scenario 1/180: AR=0.1, ST=2.5, Locks=1  \n",
      "9         252  Scenario 1/180: AR=0.1, ST=2.5, Locks=1  \n"
     ]
    }
   ],
   "source": [
    "print(df_ships.describe())"
   ],
   "metadata": {
    "collapsed": false,
    "ExecuteTime": {
     "end_time": "2025-04-03T17:00:47.479580Z",
     "start_time": "2025-04-03T17:00:47.473490Z"
    }
   },
   "id": "600e1cd8dff16210",
   "execution_count": 8
  },
  {
   "cell_type": "code",
   "outputs": [
    {
     "name": "stdout",
     "output_type": "stream",
     "text": [
      "DataFrame Info:\n",
      "<class 'pandas.core.frame.DataFrame'>\n",
      "RangeIndex: 63327 entries, 0 to 63326\n",
      "Data columns (total 13 columns):\n",
      " #   Column        Non-Null Count  Dtype  \n",
      "---  ------        --------------  -----  \n",
      " 0   Ship          63327 non-null  object \n",
      " 1   Arrival       63327 non-null  float64\n",
      " 2   Entry         63327 non-null  float64\n",
      " 3   Wait Time     63327 non-null  float64\n",
      " 4   Service Time  63327 non-null  float64\n",
      " 5   Exit          63327 non-null  float64\n",
      " 6   Fee           63327 non-null  float64\n",
      " 7   Cargo Value   63327 non-null  float64\n",
      " 8   Cargo Weight  63327 non-null  int64  \n",
      " 9   Cargo Space   63327 non-null  int64  \n",
      " 10  Free Weight   63327 non-null  int64  \n",
      " 11  Free Space    63327 non-null  int64  \n",
      " 12  Scenario      63327 non-null  object \n",
      "dtypes: float64(7), int64(4), object(2)\n",
      "memory usage: 6.3+ MB\n",
      "None\n",
      "\n",
      "DataFrame Description:\n",
      "           Ship       Arrival         Entry     Wait Time  Service Time  \\\n",
      "count     63327  63327.000000  63327.000000  63327.000000  63327.000000   \n",
      "unique     1000           NaN           NaN           NaN           NaN   \n",
      "top     Boat_52           NaN           NaN           NaN           NaN   \n",
      "freq        278           NaN           NaN           NaN           NaN   \n",
      "mean        NaN    407.319801    491.359389     84.039588      5.590707   \n",
      "std         NaN    276.072997    290.016583    139.826507      6.846899   \n",
      "min         NaN      1.133400      1.133400      0.000000      0.000424   \n",
      "25%         NaN    167.559218    240.046962      0.000000      1.302506   \n",
      "50%         NaN    372.123219    490.743095      5.793275      3.309463   \n",
      "75%         NaN    622.636953    743.756119    118.651269      7.243976   \n",
      "max         NaN    999.790538    999.790538    850.668884     92.918597   \n",
      "\n",
      "                Exit           Fee   Cargo Value  Cargo Weight   Cargo Space  \\\n",
      "count   63327.000000  63327.000000  6.332700e+04  63327.000000  63327.000000   \n",
      "unique           NaN           NaN           NaN           NaN           NaN   \n",
      "top              NaN           NaN           NaN           NaN           NaN   \n",
      "freq             NaN           NaN           NaN           NaN           NaN   \n",
      "mean      496.950097    440.433568  7.157659e+05   6421.995957    227.867750   \n",
      "std       290.108945    461.158524  4.106080e+05   5554.710058    176.927515   \n",
      "min         1.376010      1.174165  1.448663e+04    428.000000     50.000000   \n",
      "25%       245.065810      8.357621  5.390155e+05   2634.000000    100.000000   \n",
      "50%       496.481084    147.204414  7.006315e+05   4789.000000    153.000000   \n",
      "75%       749.273436   1000.000000  9.583065e+05   8085.000000    341.000000   \n",
      "max       999.975276   1000.000000  1.593623e+06  27319.000000    776.000000   \n",
      "\n",
      "         Free Weight    Free Space                                   Scenario  \n",
      "count   63327.000000  63327.000000                                      63327  \n",
      "unique           NaN           NaN                                        180  \n",
      "top              NaN           NaN  Scenario 163/180: AR=0.9, ST=2.5, Locks=3  \n",
      "freq             NaN           NaN                                        922  \n",
      "mean     3766.798206    275.357604                                        NaN  \n",
      "std      7619.996002    439.816366                                        NaN  \n",
      "min         0.000000      0.000000                                        NaN  \n",
      "25%       342.000000     16.000000                                        NaN  \n",
      "50%       702.000000     52.000000                                        NaN  \n",
      "75%      3382.000000    376.000000                                        NaN  \n",
      "max     98551.000000   5228.000000                                        NaN  \n"
     ]
    }
   ],
   "source": [
    "# Print DataFrame information and summary statistics\n",
    "print(\"DataFrame Info:\")\n",
    "print(df_ships.info())\n",
    "\n",
    "print(\"\\nDataFrame Description:\")\n",
    "print(df_ships.describe(include='all'))\n"
   ],
   "metadata": {
    "collapsed": false,
    "ExecuteTime": {
     "end_time": "2025-04-03T17:06:43.032674Z",
     "start_time": "2025-04-03T17:06:42.991783Z"
    }
   },
   "id": "918845a6db13477b",
   "execution_count": 9
  },
  {
   "cell_type": "code",
   "outputs": [],
   "source": [],
   "metadata": {
    "collapsed": false
   },
   "id": "3c53714548b2c732"
  }
 ],
 "metadata": {
  "kernelspec": {
   "display_name": "Python 3",
   "language": "python",
   "name": "python3"
  },
  "language_info": {
   "codemirror_mode": {
    "name": "ipython",
    "version": 2
   },
   "file_extension": ".py",
   "mimetype": "text/x-python",
   "name": "python",
   "nbconvert_exporter": "python",
   "pygments_lexer": "ipython2",
   "version": "2.7.6"
  }
 },
 "nbformat": 4,
 "nbformat_minor": 5
}
