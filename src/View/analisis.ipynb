{
 "cells": [
  {
   "cell_type": "code",
   "outputs": [],
   "source": [
    "import pandas as pd\n",
    "import matplotlib.pyplot as plt\n",
    "import numpy as np"
   ],
   "metadata": {
    "collapsed": false,
    "ExecuteTime": {
     "end_time": "2025-04-03T16:52:51.439402Z",
     "start_time": "2025-04-03T16:52:37.884235Z"
    }
   },
   "id": "b41f0e08d82e25f1",
   "execution_count": 1
  },
  {
   "cell_type": "code",
   "execution_count": 2,
   "id": "initial_id",
   "metadata": {
    "collapsed": true,
    "ExecuteTime": {
     "end_time": "2025-04-03T16:52:51.460543Z",
     "start_time": "2025-04-03T16:52:51.446418Z"
    }
   },
   "outputs": [],
   "source": [
    "# Define file names\n",
    "ship_log_file = \"ship_log.csv\"\n",
    "cargo_log_file = \"cargo_log.csv\"\n",
    "canal_log_file = \"canal_log.csv\"\n",
    "ship_stats_file = \"ship_stats.csv\""
   ]
  },
  {
   "cell_type": "code",
   "outputs": [],
   "source": [
    "# Load the CSV files into DataFrames\n",
    "df_ships = pd.read_csv(ship_log_file)\n",
    "df_cargos = pd.read_csv(cargo_log_file)\n",
    "df_canal = pd.read_csv(canal_log_file)\n",
    "ship_stats = pd.read_csv(ship_stats_file)"
   ],
   "metadata": {
    "collapsed": false,
    "ExecuteTime": {
     "end_time": "2025-04-03T16:52:52.821358Z",
     "start_time": "2025-04-03T16:52:51.468119Z"
    }
   },
   "id": "93376fa4ce4c11e2",
   "execution_count": 3
  }
 ],
 "metadata": {
  "kernelspec": {
   "display_name": "Python 3",
   "language": "python",
   "name": "python3"
  },
  "language_info": {
   "codemirror_mode": {
    "name": "ipython",
    "version": 2
   },
   "file_extension": ".py",
   "mimetype": "text/x-python",
   "name": "python",
   "nbconvert_exporter": "python",
   "pygments_lexer": "ipython2",
   "version": "2.7.6"
  }
 },
 "nbformat": 4,
 "nbformat_minor": 5
}
